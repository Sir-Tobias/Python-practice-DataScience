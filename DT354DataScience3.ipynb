{
  "nbformat": 4,
  "nbformat_minor": 0,
  "metadata": {
    "colab": {
      "name": "DT354DataScience3.ipynb",
      "provenance": [],
      "collapsed_sections": [],
      "authorship_tag": "ABX9TyNzPb9AaQ9CwMzXJ1kg7rN1",
      "include_colab_link": true
    },
    "kernelspec": {
      "name": "python3",
      "display_name": "Python 3"
    }
  },
  "cells": [
    {
      "cell_type": "markdown",
      "metadata": {
        "id": "view-in-github",
        "colab_type": "text"
      },
      "source": [
        "<a href=\"https://colab.research.google.com/github/Sir-Tobias/Python-practice-DataScience/blob/master/DT354DataScience3.ipynb\" target=\"_parent\"><img src=\"https://colab.research.google.com/assets/colab-badge.svg\" alt=\"Open In Colab\"/></a>"
      ]
    },
    {
      "cell_type": "markdown",
      "metadata": {
        "id": "_yP20U-PKskd"
      },
      "source": [
        "**This is used to label your code**\n",
        "hello world example\n",
        "\n",
        "*   Hello world example\n",
        "*   Valuable assignment\n",
        "\n",
        "\n"
      ]
    },
    {
      "cell_type": "code",
      "metadata": {
        "id": "z-U63kAvKVfb",
        "outputId": "011a7c0b-e974-4d93-870b-5a0637c4c300",
        "colab": {
          "base_uri": "https://localhost:8080/",
          "height": 52
        }
      },
      "source": [
        "mass = 25\n",
        "\n",
        "volume = 5\n",
        "\n",
        "density = mass/volume\n",
        "\n",
        "print(density)\n",
        "\n",
        "message = 'hello'\n",
        "person = 'bob'\n",
        "\n",
        "welcome = message + ' ' + person\n",
        "print(welcome)\n",
        "\n"
      ],
      "execution_count": 2,
      "outputs": [
        {
          "output_type": "stream",
          "text": [
            "5.0\n",
            "hello bob\n"
          ],
          "name": "stdout"
        }
      ]
    },
    {
      "cell_type": "markdown",
      "metadata": {
        "id": "Nylni72KO1P4"
      },
      "source": [
        "Type Example"
      ]
    },
    {
      "cell_type": "code",
      "metadata": {
        "id": "uVtBA6xmO35X",
        "outputId": "8c36efb3-8329-4063-f1eb-a1e8ac1d40ec",
        "colab": {
          "base_uri": "https://localhost:8080/",
          "height": 69
        }
      },
      "source": [
        "isTodaySunday = False\n",
        "\n",
        "print(type(isTodaySunday)) # bool\n",
        "\n",
        "value_str = \"25\"\n",
        "\n",
        "print(type(value_str))\n",
        "print(type(int(value_str))) # forced type int because the value \"25\" can also be converted to an int"
      ],
      "execution_count": 7,
      "outputs": [
        {
          "output_type": "stream",
          "text": [
            "<class 'bool'>\n",
            "<class 'str'>\n",
            "<class 'int'>\n"
          ],
          "name": "stdout"
        }
      ]
    },
    {
      "cell_type": "markdown",
      "metadata": {
        "id": "vPCxja9xQrul"
      },
      "source": [
        "Help command syntax\n",
        "\n",
        "\n",
        "*   Put a question mark infront of anything you dont understand\n",
        "*   ?len\n",
        "\n",
        "\n",
        "*   ?type\n",
        "*   ?print\n",
        "\n",
        "\n",
        "\n",
        "\n",
        "\n"
      ]
    },
    {
      "cell_type": "code",
      "metadata": {
        "id": "GSntrwjoQt_-"
      },
      "source": [
        "?len\n",
        "\n",
        "?type\n",
        "\n",
        "?print"
      ],
      "execution_count": 9,
      "outputs": []
    },
    {
      "cell_type": "markdown",
      "metadata": {
        "id": "y8aWf15SSAxY"
      },
      "source": [
        "Python Lists"
      ]
    },
    {
      "cell_type": "code",
      "metadata": {
        "id": "Z8t7wDa1Seyu",
        "outputId": "92e89060-092f-4945-fb71-2a4957bd7084",
        "colab": {
          "base_uri": "https://localhost:8080/",
          "height": 104
        }
      },
      "source": [
        "a = \"is\"\n",
        "b = 2\n",
        "\n",
        "my_list = [\"my_list\", a, b]\n",
        "list_of_lists = [ my_list,[4,5]]\n",
        "list_of_different_items = [my_list,[4,5],8]\n",
        "print(\"list_of_different_items[0] .7\", list_of_different_items[0])\n",
        "print(\"list_of_different_items[1] .8\", list_of_different_items[1])\n",
        "print(\"list_of_different_items[2].9\", list_of_different_items[2])\n",
        "print(\"list_of_different_items[-1].10\", list_of_different_items[-1])\n",
        "print(\"list_of_different_items len .11\", len(list_of_different_items))"
      ],
      "execution_count": 14,
      "outputs": [
        {
          "output_type": "stream",
          "text": [
            "list_of_different_items[0] .7 ['my_list', 'is', 2]\n",
            "list_of_different_items[1] .8 [4, 5]\n",
            "list_of_different_items[2].9 8\n",
            "list_of_different_items[-1].10 8\n",
            "list_of_different_items len .11 3\n"
          ],
          "name": "stdout"
        }
      ]
    },
    {
      "cell_type": "markdown",
      "metadata": {
        "id": "T3vWmKP9ZCCZ"
      },
      "source": [
        "ASK GOOGLE EXAMPLE"
      ]
    },
    {
      "cell_type": "code",
      "metadata": {
        "id": "Ig_n2qn8ZGM7",
        "outputId": "a61b4aa5-3086-44d6-e8e1-5aa0820996dc",
        "colab": {
          "base_uri": "https://localhost:8080/",
          "height": 52
        }
      },
      "source": [
        "town = \"Dublin and Derry\"\n",
        "print(town.lower())\n",
        "print(town.lower().count('d'))\n",
        "\n"
      ],
      "execution_count": 21,
      "outputs": [
        {
          "output_type": "stream",
          "text": [
            "dublin and derry\n",
            "3\n"
          ],
          "name": "stdout"
        }
      ]
    },
    {
      "cell_type": "markdown",
      "metadata": {
        "id": "hejPDouzcUi-"
      },
      "source": [
        "Packages & Import"
      ]
    },
    {
      "cell_type": "code",
      "metadata": {
        "id": "UW-9enMucaMe"
      },
      "source": [
        "import math\n",
        "\n",
        "print(math.sqrt(4))\n",
        "\n",
        "from math import sin #You can import a specific function from the math libary\n",
        "print(sin(90))\n",
        "\n",
        "import math as m# Import as M because you do not have to type math each time\n",
        "print(m.sin(90))"
      ],
      "execution_count": null,
      "outputs": []
    },
    {
      "cell_type": "markdown",
      "metadata": {
        "id": "zPnISdzSdesx"
      },
      "source": [
        "Logic"
      ]
    },
    {
      "cell_type": "code",
      "metadata": {
        "id": "TyEiDkDpdiJ-"
      },
      "source": [
        "print(True == False)\n",
        "print(2*8! = -8)\n",
        "\n",
        "print('Ireland' == 'ireland')\n",
        "print(False == 0)\n"
      ],
      "execution_count": null,
      "outputs": []
    },
    {
      "cell_type": "markdown",
      "metadata": {
        "id": "UlLAy7LqfHXU"
      },
      "source": [
        "Control Flow"
      ]
    },
    {
      "cell_type": "code",
      "metadata": {
        "id": "Yi8mEw9VfJbc",
        "outputId": "1ea604f6-2c95-425f-af4c-e92663afcdba",
        "colab": {
          "base_uri": "https://localhost:8080/",
          "height": 35
        }
      },
      "source": [
        "if 9 > 10:\n",
        "    print(\"9 is greater than 10\")\n",
        "elif 9 == 10:\n",
        "    print(\"9 is equal to 10\")\n",
        "else:\n",
        "    print(\"9 is lesser than 10\")"
      ],
      "execution_count": 28,
      "outputs": [
        {
          "output_type": "stream",
          "text": [
            "9 is lesser than 10\n"
          ],
          "name": "stdout"
        }
      ]
    }
  ]
}