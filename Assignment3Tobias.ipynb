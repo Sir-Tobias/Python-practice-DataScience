{
  "nbformat": 4,
  "nbformat_minor": 0,
  "metadata": {
    "colab": {
      "name": "Assignment3Tobias.ipynb",
      "provenance": [],
      "collapsed_sections": [],
      "authorship_tag": "ABX9TyM6shhWWrkPIDfeFdlDTw5C",
      "include_colab_link": true
    },
    "kernelspec": {
      "name": "python3",
      "display_name": "Python 3"
    }
  },
  "cells": [
    {
      "cell_type": "markdown",
      "metadata": {
        "id": "view-in-github",
        "colab_type": "text"
      },
      "source": [
        "<a href=\"https://colab.research.google.com/github/Sir-Tobias/Python-practice-DataScience/blob/master/Assignment3Tobias.ipynb\" target=\"_parent\"><img src=\"https://colab.research.google.com/assets/colab-badge.svg\" alt=\"Open In Colab\"/></a>"
      ]
    },
    {
      "cell_type": "markdown",
      "metadata": {
        "id": "XJcs-WvyETNR"
      },
      "source": [
        "# **Question 1**\r\n",
        "\r\n",
        "The difference between Big Data and Big Data Analytics is that Big Data ANalytics is mainly used in industries such as IT, Healthcare and Travel industries. It mainly focuses on analysing past trends and patterns to make future predictions.\r\n",
        "\r\n",
        "Whereas Big Data is used in industries such as banking and retail.Big Data mainly focuses on allowing business' to make more calculated and strategic busibness decisions. \r\n",
        "\r\n",
        "With batch processing data is scheduled weekly or monthly. The benefit of batch processing is that many processes and transactions can take place at once and can be processed at a later date which reduce workload. An example of batch processing is credit card transactions that take a few hours or a day to process. The batch process would be categorized as Velocity in relation to the 3 V's because it is the speed at which big data is generated.\r\n"
      ]
    },
    {
      "cell_type": "markdown",
      "metadata": {
        "id": "lRaDMCm6Qd3j"
      },
      "source": [
        "# **Question 2**\r\n",
        "\r\n",
        "The difference between Clustering and Classifications is that Classification is a supervised form of learning where you teach the computer to do something with data that has already been labelled by humans. This training set includes a fixed amount of labels for the computer to learn from then by spotting patterns the machine can classify new data to pre determine categories.\r\n",
        "\r\n",
        "On the other hand clustering is a form of unsupervised learning. It is done by grouping data points together based on similar data points that have been set by the user on the computer.\r\n",
        "\r\n",
        "Big data is very useful in regards to increasing business revenue because it allows the business to track user activity throuigh theior website. This allows them to see paying customers versus window shopping customers, because by doing this business the user can then creatre retargetting ads to focus on paying customers and monitor their pattern using clustering.\r\n",
        "\r\n",
        "The challenges around ethics around data is that a company should not have that much access to somebodys personal information becuase it means they can target a specific niche of people who may be vulnerable or people who can to be manipulated.\r\n",
        "\r\n",
        "**Map()**: This is a function that allows a function to be executed for each item in an iterable. Theitem will then be sent to the function as a parameter. The benefits of using map is that it is very efficient and faster than using recursive loops.\r\n",
        "\r\n",
        "**Reduce()**: This is a function that is used to apply a specific function in an argument to all the list elements that are mentioned in the sequence passed. \r\n",
        "\r\n",
        "**Filter()**: This is a method that creates an iterator from each element of an iterable to check which function passes to return true. The benefit of this function is that it reduces the size of a list which is more effecient for space.\r\n",
        "\r\n",
        "\r\n",
        "\r\n"
      ]
    },
    {
      "cell_type": "markdown",
      "metadata": {
        "id": "PYS20mB9hAQh"
      },
      "source": [
        "**Question 3**\r\n",
        "\r\n",
        "a) Q will be assigned the label over because it has two out of the three closest points.\r\n",
        "\r\n",
        "b) 4-NN classifier would be assigned to label over this if we assume that we go to a 5-NN rather than a 3-NN to find the label which would result to the label assigned to q being over.\r\n",
        "\r\n",
        "c) Using the inverse distance method a weigthed 4-NN class would be the label over for q because the first class has a higher score point."
      ]
    },
    {
      "cell_type": "markdown",
      "metadata": {
        "id": "ej4z74LlkN8P"
      },
      "source": [
        "# **Question 4**\r\n",
        "\r\n",
        "Overfitting is a modelling error that occurs when a function is too closely packed to a limited amount of datapoints. In comparison underfitting is a model that the training data that does not generalize to new data nor to training data. The best way to approach using underfitting data is to increase the size of the number of parameters in the model and also to increase the complexity of the model.\r\n",
        "\r\n",
        "The best way to handle overfitting is to reduce the network capacity by removing layers or reducing the number of elements in the hidden layers."
      ]
    },
    {
      "cell_type": "markdown",
      "metadata": {
        "id": "PLNxAGG6G6O6"
      },
      "source": [
        "# **Question 5**"
      ]
    },
    {
      "cell_type": "code",
      "metadata": {
        "colab": {
          "base_uri": "https://localhost:8080/"
        },
        "id": "Ty6AJTthHFq7",
        "outputId": "1790d3d4-f923-4cd1-b3a5-c6f7049193b5"
      },
      "source": [
        "from sklearn import datasets\r\n",
        "iris = datasets.load_wine()\r\n",
        "X = iris.data\r\n",
        "y = iris.target\r\n",
        "print(wine['DESCR'])"
      ],
      "execution_count": null,
      "outputs": [
        {
          "output_type": "stream",
          "text": [
            ".. _wine_dataset:\n",
            "\n",
            "Wine recognition dataset\n",
            "------------------------\n",
            "\n",
            "**Data Set Characteristics:**\n",
            "\n",
            "    :Number of Instances: 178 (50 in each of three classes)\n",
            "    :Number of Attributes: 13 numeric, predictive attributes and the class\n",
            "    :Attribute Information:\n",
            " \t\t- Alcohol\n",
            " \t\t- Malic acid\n",
            " \t\t- Ash\n",
            "\t\t- Alcalinity of ash  \n",
            " \t\t- Magnesium\n",
            "\t\t- Total phenols\n",
            " \t\t- Flavanoids\n",
            " \t\t- Nonflavanoid phenols\n",
            " \t\t- Proanthocyanins\n",
            "\t\t- Color intensity\n",
            " \t\t- Hue\n",
            " \t\t- OD280/OD315 of diluted wines\n",
            " \t\t- Proline\n",
            "\n",
            "    - class:\n",
            "            - class_0\n",
            "            - class_1\n",
            "            - class_2\n",
            "\t\t\n",
            "    :Summary Statistics:\n",
            "    \n",
            "    ============================= ==== ===== ======= =====\n",
            "                                   Min   Max   Mean     SD\n",
            "    ============================= ==== ===== ======= =====\n",
            "    Alcohol:                      11.0  14.8    13.0   0.8\n",
            "    Malic Acid:                   0.74  5.80    2.34  1.12\n",
            "    Ash:                          1.36  3.23    2.36  0.27\n",
            "    Alcalinity of Ash:            10.6  30.0    19.5   3.3\n",
            "    Magnesium:                    70.0 162.0    99.7  14.3\n",
            "    Total Phenols:                0.98  3.88    2.29  0.63\n",
            "    Flavanoids:                   0.34  5.08    2.03  1.00\n",
            "    Nonflavanoid Phenols:         0.13  0.66    0.36  0.12\n",
            "    Proanthocyanins:              0.41  3.58    1.59  0.57\n",
            "    Colour Intensity:              1.3  13.0     5.1   2.3\n",
            "    Hue:                          0.48  1.71    0.96  0.23\n",
            "    OD280/OD315 of diluted wines: 1.27  4.00    2.61  0.71\n",
            "    Proline:                       278  1680     746   315\n",
            "    ============================= ==== ===== ======= =====\n",
            "\n",
            "    :Missing Attribute Values: None\n",
            "    :Class Distribution: class_0 (59), class_1 (71), class_2 (48)\n",
            "    :Creator: R.A. Fisher\n",
            "    :Donor: Michael Marshall (MARSHALL%PLU@io.arc.nasa.gov)\n",
            "    :Date: July, 1988\n",
            "\n",
            "This is a copy of UCI ML Wine recognition datasets.\n",
            "https://archive.ics.uci.edu/ml/machine-learning-databases/wine/wine.data\n",
            "\n",
            "The data is the results of a chemical analysis of wines grown in the same\n",
            "region in Italy by three different cultivators. There are thirteen different\n",
            "measurements taken for different constituents found in the three types of\n",
            "wine.\n",
            "\n",
            "Original Owners: \n",
            "\n",
            "Forina, M. et al, PARVUS - \n",
            "An Extendible Package for Data Exploration, Classification and Correlation. \n",
            "Institute of Pharmaceutical and Food Analysis and Technologies,\n",
            "Via Brigata Salerno, 16147 Genoa, Italy.\n",
            "\n",
            "Citation:\n",
            "\n",
            "Lichman, M. (2013). UCI Machine Learning Repository\n",
            "[https://archive.ics.uci.edu/ml]. Irvine, CA: University of California,\n",
            "School of Information and Computer Science. \n",
            "\n",
            ".. topic:: References\n",
            "\n",
            "  (1) S. Aeberhard, D. Coomans and O. de Vel, \n",
            "  Comparison of Classifiers in High Dimensional Settings, \n",
            "  Tech. Rep. no. 92-02, (1992), Dept. of Computer Science and Dept. of  \n",
            "  Mathematics and Statistics, James Cook University of North Queensland. \n",
            "  (Also submitted to Technometrics). \n",
            "\n",
            "  The data was used with many others for comparing various \n",
            "  classifiers. The classes are separable, though only RDA \n",
            "  has achieved 100% correct classification. \n",
            "  (RDA : 100%, QDA 99.4%, LDA 98.9%, 1NN 96.1% (z-transformed data)) \n",
            "  (All results using the leave-one-out technique) \n",
            "\n",
            "  (2) S. Aeberhard, D. Coomans and O. de Vel, \n",
            "  \"THE CLASSIFICATION PERFORMANCE OF RDA\" \n",
            "  Tech. Rep. no. 92-01, (1992), Dept. of Computer Science and Dept. of \n",
            "  Mathematics and Statistics, James Cook University of North Queensland. \n",
            "  (Also submitted to Journal of Chemometrics).\n",
            "\n"
          ],
          "name": "stdout"
        }
      ]
    },
    {
      "cell_type": "code",
      "metadata": {
        "colab": {
          "base_uri": "https://localhost:8080/"
        },
        "id": "ubmv8IPwdXgm",
        "outputId": "b13a1524-97c5-49c4-ca56-ca3ac443248a"
      },
      "source": [
        "X[0]"
      ],
      "execution_count": null,
      "outputs": [
        {
          "output_type": "execute_result",
          "data": {
            "text/plain": [
              "array([1.423e+01, 1.710e+00, 2.430e+00, 1.560e+01, 1.270e+02, 2.800e+00,\n",
              "       3.060e+00, 2.800e-01, 2.290e+00, 5.640e+00, 1.040e+00, 3.920e+00,\n",
              "       1.065e+03])"
            ]
          },
          "metadata": {
            "tags": []
          },
          "execution_count": 40
        }
      ]
    },
    {
      "cell_type": "code",
      "metadata": {
        "id": "T40_ZkACddNd"
      },
      "source": [
        "import matplotlib.pyplot as plt"
      ],
      "execution_count": null,
      "outputs": []
    },
    {
      "cell_type": "code",
      "metadata": {
        "colab": {
          "base_uri": "https://localhost:8080/"
        },
        "id": "BIbY2OyFdibM",
        "outputId": "fd2da989-1ce9-40c5-db80-904d9fec7bd5"
      },
      "source": [
        "from sklearn.neighbors import KNeighborsClassifier \r\n",
        "knn = KNeighborsClassifier(n_neighbors=1)\r\n",
        "knn.fit(iris['data'], iris['target']) \r\n",
        "print(iris['data'].shape)\r\n",
        "print(iris['target'].shape)"
      ],
      "execution_count": null,
      "outputs": [
        {
          "output_type": "stream",
          "text": [
            "(178, 13)\n",
            "(178,)\n"
          ],
          "name": "stdout"
        }
      ]
    },
    {
      "cell_type": "code",
      "metadata": {
        "colab": {
          "base_uri": "https://localhost:8080/"
        },
        "id": "K634G3VYdlwE",
        "outputId": "ffc23f8a-17e9-4b33-b203-b1e3d9aa844a"
      },
      "source": [
        "from sklearn.model_selection import train_test_split\r\n",
        "X_train, X_test, y_train, y_test = train_test_split(X, y, test_size=0.3, random_state=21, stratify=y)\r\n",
        "\r\n",
        "print(X_train.shape, y_train.shape)\r\n",
        "print(X_test.shape, y_test.shape)"
      ],
      "execution_count": null,
      "outputs": [
        {
          "output_type": "stream",
          "text": [
            "(124, 13) (124,)\n",
            "(54, 13) (54,)\n"
          ],
          "name": "stdout"
        }
      ]
    },
    {
      "cell_type": "code",
      "metadata": {
        "colab": {
          "base_uri": "https://localhost:8080/"
        },
        "id": "9qdPwKavdqfn",
        "outputId": "8257a5d2-36be-45a4-db96-4e7563898adc"
      },
      "source": [
        "knn = KNeighborsClassifier(n_neighbors=1)\r\n",
        "knn.fit(X_train, y_train)\r\n",
        "y_pred = knn.predict(X_test)\r\n",
        "print(\"Test set predictions:\\n {}\".format(y_pred))\r\n",
        "print(\"Test set true labels:\\n {}\".format(y_test))"
      ],
      "execution_count": null,
      "outputs": [
        {
          "output_type": "stream",
          "text": [
            "Test set predictions:\n",
            " [2 2 1 0 1 0 1 0 1 2 2 0 0 0 1 2 2 2 2 1 1 2 0 0 2 1 2 1 1 0 2 1 0 1 0 0 0\n",
            " 2 2 1 0 0 2 1 1 2 2 1 0 1 1 1 0 1]\n",
            "Test set true labels:\n",
            " [2 2 1 0 2 0 0 2 1 2 1 0 0 0 1 1 2 1 2 0 1 2 0 1 1 2 2 2 1 0 1 1 0 1 0 0 0\n",
            " 2 1 1 0 0 2 1 1 2 2 1 0 1 1 1 0 0]\n"
          ],
          "name": "stdout"
        }
      ]
    },
    {
      "cell_type": "code",
      "metadata": {
        "colab": {
          "base_uri": "https://localhost:8080/",
          "height": 295
        },
        "id": "ZQ2xeNTadxa1",
        "outputId": "f4d01138-c65a-4128-fe4e-339bd11e787a"
      },
      "source": [
        "import numpy as np\r\n",
        "# Setup arrays to store train and test accuracies\r\n",
        "neighbors = np.arange(1, 10)\r\n",
        "train_accuracy = np.empty(len(neighbors))\r\n",
        "test_accuracy = np.empty(len(neighbors))\r\n",
        "\r\n",
        "# Loop over different values of k\r\n",
        "for i, k in enumerate(neighbors):\r\n",
        "    # Setup a k-NN Classifier with k neighbors: knn\r\n",
        "    knn = KNeighborsClassifier(n_neighbors=k)\r\n",
        "\r\n",
        "    # Fit the classifier to the training data\r\n",
        "    knn.fit(X_train, y_train)\r\n",
        "\r\n",
        "    #Compute accuracy on the training set\r\n",
        "    train_accuracy[i] = knn.score(X_train, y_train)\r\n",
        "\r\n",
        "    #Compute accuracy on the testing set\r\n",
        "    test_accuracy[i] = knn.score(X_test, y_test)\r\n",
        "\r\n",
        "# Generate plot\r\n",
        "plt.title('k-NN: Varying Number of Neighbors')\r\n",
        "plt.plot(neighbors, test_accuracy, label = 'Testing Accuracy')\r\n",
        "plt.plot(neighbors, train_accuracy, label = 'Training Accuracy')\r\n",
        "plt.legend()\r\n",
        "plt.xlabel('Number of Neighbors')\r\n",
        "plt.ylabel('Accuracy')\r\n",
        "plt.show()\r\n"
      ],
      "execution_count": null,
      "outputs": [
        {
          "output_type": "display_data",
          "data": {
            "image/png": "[encoded data removed]",
            "text/plain": [
              "<Figure size 432x288 with 1 Axes>"
            ]
          },
          "metadata": {
            "tags": [],
            "needs_background": "light"
          }
        }
      ]
    },
    {
      "cell_type": "code",
      "metadata": {
        "colab": {
          "base_uri": "https://localhost:8080/",
          "height": 1000
        },
        "id": "V_RWzL90d6T9",
        "outputId": "07b33885-cbe4-4036-a9dc-2cf4a02bee5b"
      },
      "source": [
        "from sklearn import datasets\r\n",
        "import matplotlib.pyplot as plt\r\n",
        "\r\n",
        "\r\n",
        "digits = datasets.load_digits()\r\n",
        "\r\n",
        "\r\n",
        "print(digits.keys())\r\n",
        "print(digits['DESCR'])\r\n",
        "print(digits.images.shape)\r\n",
        "print(digits.data.shape)\r\n",
        "\r\n",
        "\r\n",
        "plt.imshow(digits.images[1010], cmap=plt.cm.gray_r, interpolation='nearest')\r\n",
        "plt.show()"
      ],
      "execution_count": null,
      "outputs": [
        {
          "output_type": "stream",
          "text": [
            "dict_keys(['data', 'target', 'target_names', 'images', 'DESCR'])\n",
            ".. _digits_dataset:\n",
            "\n",
            "Optical recognition of handwritten digits dataset\n",
            "--------------------------------------------------\n",
            "\n",
            "**Data Set Characteristics:**\n",
            "\n",
            "    :Number of Instances: 5620\n",
            "    :Number of Attributes: 64\n",
            "    :Attribute Information: 8x8 image of integer pixels in the range 0..16.\n",
            "    :Missing Attribute Values: None\n",
            "    :Creator: E. Alpaydin (alpaydin '@' boun.edu.tr)\n",
            "    :Date: July; 1998\n",
            "\n",
            "This is a copy of the test set of the UCI ML hand-written digits datasets\n",
            "https://archive.ics.uci.edu/ml/datasets/Optical+Recognition+of+Handwritten+Digits\n",
            "\n",
            "The data set contains images of hand-written digits: 10 classes where\n",
            "each class refers to a digit.\n",
            "\n",
            "Preprocessing programs made available by NIST were used to extract\n",
            "normalized bitmaps of handwritten digits from a preprinted form. From a\n",
            "total of 43 people, 30 contributed to the training set and different 13\n",
            "to the test set. 32x32 bitmaps are divided into nonoverlapping blocks of\n",
            "4x4 and the number of on pixels are counted in each block. This generates\n",
            "an input matrix of 8x8 where each element is an integer in the range\n",
            "0..16. This reduces dimensionality and gives invariance to small\n",
            "distortions.\n",
            "\n",
            "For info on NIST preprocessing routines, see M. D. Garris, J. L. Blue, G.\n",
            "T. Candela, D. L. Dimmick, J. Geist, P. J. Grother, S. A. Janet, and C.\n",
            "L. Wilson, NIST Form-Based Handprint Recognition System, NISTIR 5469,\n",
            "1994.\n",
            "\n",
            ".. topic:: References\n",
            "\n",
            "  - C. Kaynak (1995) Methods of Combining Multiple Classifiers and Their\n",
            "    Applications to Handwritten Digit Recognition, MSc Thesis, Institute of\n",
            "    Graduate Studies in Science and Engineering, Bogazici University.\n",
            "  - E. Alpaydin, C. Kaynak (1998) Cascading Classifiers, Kybernetika.\n",
            "  - Ken Tang and Ponnuthurai N. Suganthan and Xi Yao and A. Kai Qin.\n",
            "    Linear dimensionalityreduction using relevance weighted LDA. School of\n",
            "    Electrical and Electronic Engineering Nanyang Technological University.\n",
            "    2005.\n",
            "  - Claudio Gentile. A New Approximate Maximal Margin Classification\n",
            "    Algorithm. NIPS. 2000.\n",
            "(1797, 8, 8)\n",
            "(1797, 64)\n"
          ],
          "name": "stdout"
        },
        {
          "output_type": "display_data",
          "data": {
            "image/png": "[encoded data removed]",
            "text/plain": [
              "<Figure size 432x288 with 1 Axes>"
            ]
          },
          "metadata": {
            "tags": [],
            "needs_background": "light"
          }
        }
      ]
    },
    {
      "cell_type": "code",
      "metadata": {
        "colab": {
          "base_uri": "https://localhost:8080/"
        },
        "id": "764mKI_rd-br",
        "outputId": "04de1877-2ced-48f2-dc34-b59bd632b253"
      },
      "source": [
        "digits.images[1010]"
      ],
      "execution_count": null,
      "outputs": [
        {
          "output_type": "execute_result",
          "data": {
            "text/plain": [
              "array([[ 0.,  0.,  9., 12., 12., 12.,  6.,  0.],\n",
              "       [ 0.,  1., 14.,  6.,  4.,  4.,  2.,  0.],\n",
              "       [ 0.,  4., 15., 12.,  9.,  1.,  0.,  0.],\n",
              "       [ 0.,  4., 15.,  8., 11., 11.,  0.,  0.],\n",
              "       [ 0.,  0.,  1.,  0.,  0., 14.,  4.,  0.],\n",
              "       [ 0.,  0.,  0.,  0.,  0., 10.,  8.,  0.],\n",
              "       [ 0.,  0., 10.,  1.,  0.,  8.,  8.,  0.],\n",
              "       [ 0.,  0.,  9., 16., 16., 15.,  4.,  0.]])"
            ]
          },
          "metadata": {
            "tags": []
          },
          "execution_count": 50
        }
      ]
    },
    {
      "cell_type": "code",
      "metadata": {
        "colab": {
          "base_uri": "https://localhost:8080/"
        },
        "id": "qW_2uO4neaJV",
        "outputId": "1e50a0ce-1f0b-49d1-fd44-619d2fd90d5e"
      },
      "source": [
        "X = digits.data\r\n",
        "y= digits.target\r\n",
        "print(X.shape, y.shape)\r\n",
        "X_train, X_test, y_train, y_test = train_test_split(X, y, test_size=0.5, random_state=21, stratify=y)\r\n",
        "\r\n",
        "knn = KNeighborsClassifier(n_neighbors=1)\r\n",
        "knn.fit(X_train, y_train)\r\n",
        "y_pred = knn.predict(X_test)\r\n",
        "# print(\"Test set predictions:\\n {}\".format(y_pred))\r\n",
        "print(knn.score(X_test, y_test))"
      ],
      "execution_count": null,
      "outputs": [
        {
          "output_type": "stream",
          "text": [
            "(1797, 64) (1797,)\n",
            "0.9777530589543938\n"
          ],
          "name": "stdout"
        }
      ]
    },
    {
      "cell_type": "code",
      "metadata": {
        "colab": {
          "base_uri": "https://localhost:8080/",
          "height": 295
        },
        "id": "_-oBsdMZe-dE",
        "outputId": "e5f306e8-7fcc-4dc2-abd5-f5b881171350"
      },
      "source": [
        "import numpy as np\r\n",
        "# Setup arrays to store train and test accuracies\r\n",
        "neighbors = np.arange(1, 40)\r\n",
        "train_accuracy = np.empty(len(neighbors))\r\n",
        "test_accuracy = np.empty(len(neighbors))\r\n",
        "\r\n",
        "# Loop over different values of k\r\n",
        "for i, k in enumerate(neighbors):\r\n",
        "    # Setup a k-NN Classifier with k neighbors: knn\r\n",
        "    knn = KNeighborsClassifier(n_neighbors=k)\r\n",
        "\r\n",
        "    # Fit the classifier to the training data\r\n",
        "    knn.fit(X_train, y_train)\r\n",
        "\r\n",
        "    #Compute accuracy on the training set\r\n",
        "    train_accuracy[i] = knn.score(X_train, y_train)\r\n",
        "\r\n",
        "    #Compute accuracy on the testing set\r\n",
        "    test_accuracy[i] = knn.score(X_test, y_test)\r\n",
        "\r\n",
        "# Generate plot\r\n",
        "plt.title('k-NN: Varying Number of Neighbors')\r\n",
        "plt.plot(neighbors, test_accuracy, label = 'Testing Accuracy')\r\n",
        "plt.plot(neighbors, train_accuracy, label = 'Training Accuracy')\r\n",
        "plt.legend()\r\n",
        "plt.xlabel('Number of Neighbors')\r\n",
        "plt.ylabel('Accuracy')\r\n",
        "plt.show()"
      ],
      "execution_count": null,
      "outputs": [
        {
          "output_type": "display_data",
          "data": {
            "image/png": "[encoded data removed]",
            "text/plain": [
              "<Figure size 432x288 with 1 Axes>"
            ]
          },
          "metadata": {
            "tags": [],
            "needs_background": "light"
          }
        }
      ]
    },
    {
      "cell_type": "code",
      "metadata": {
        "colab": {
          "base_uri": "https://localhost:8080/",
          "height": 1000
        },
        "id": "KNUsQod0fM1f",
        "outputId": "5caa40bc-60c2-4d09-c97b-fc801c6f389b"
      },
      "source": [
        "import numpy as np\r\n",
        "import matplotlib.pyplot as plt\r\n",
        "from matplotlib.colors import ListedColormap\r\n",
        "from sklearn.neighbors import NearestCentroid\r\n",
        "\r\n",
        "# n_neighbors = 15\r\n",
        "\r\n",
        "# import some data to play with\r\n",
        "iris = datasets.load_iris()\r\n",
        "# we only take the first two features. We could avoid this ugly\r\n",
        "# slicing by using a two-dim dataset\r\n",
        "X = iris.data[:, :2]\r\n",
        "y = iris.target\r\n",
        "\r\n",
        "h = .02  # step size in the mesh\r\n",
        "\r\n",
        "# Create color maps\r\n",
        "cmap_light = ListedColormap(['#FFAAAA', '#AAFFAA', '#AAAAFF'])\r\n",
        "cmap_bold = ListedColormap(['#FF0000', '#00FF00', '#0000FF'])\r\n",
        "\r\n",
        "for shrinkage in [None, .2, 1.2, 1.5]:\r\n",
        "    # we create an instance of Neighbours Classifier and fit the data.\r\n",
        "    nc = NearestCentroid(shrink_threshold=shrinkage)\r\n",
        "    nc.fit(X, y)\r\n",
        "    y_pred = nc.predict(X)\r\n",
        "    print(shrinkage, np.mean(y == y_pred))\r\n",
        "    # Plot the decision boundary. For that, we will assign a color to each\r\n",
        "    # point in the mesh [x_min, x_max]x[y_min, y_max].\r\n",
        "    x_min, x_max = X[:, 0].min() - 1, X[:, 0].max() + 1\r\n",
        "    y_min, y_max = X[:, 1].min() - 1, X[:, 1].max() + 1\r\n",
        "    xx, yy = np.meshgrid(np.arange(x_min, x_max, h),\r\n",
        "                         np.arange(y_min, y_max, h))\r\n",
        "    Z = nc.predict(np.c_[xx.ravel(), yy.ravel()])\r\n",
        "\r\n",
        "    # Put the result into a color plot\r\n",
        "    Z = Z.reshape(xx.shape)\r\n",
        "    plt.figure()\r\n",
        "    plt.pcolormesh(xx, yy, Z, cmap=cmap_light)\r\n",
        "\r\n",
        "    # Plot also the training points\r\n",
        "    plt.scatter(X[:, 0], X[:, 1], c=y, cmap=cmap_bold,\r\n",
        "                edgecolor='k', s=20, alpha=0.65)\r\n",
        "    plt.scatter(nc.centroids_[:, 0], nc.centroids_[:, 1], c=[0, 1, 2], cmap=cmap_bold,\r\n",
        "                edgecolor='k', s=160, marker='*')\r\n",
        "    plt.title(\"3-Class classification (shrink_threshold=%r)\"\r\n",
        "              % shrinkage)\r\n",
        "    plt.axis('tight')\r\n",
        "\r\n",
        "plt.show()"
      ],
      "execution_count": null,
      "outputs": [
        {
          "output_type": "stream",
          "text": [
            "None 0.8133333333333334\n",
            "0.2 0.82\n",
            "1.2 0.8066666666666666\n",
            "1.5 0.8\n"
          ],
          "name": "stdout"
        },
        {
          "output_type": "display_data",
          "data": {
            "image/png": "[encoded data removed]",
            "text/plain": [
              "<Figure size 432x288 with 1 Axes>"
            ]
          },
          "metadata": {
            "tags": [],
            "needs_background": "light"
          }
        },
        {
          "output_type": "display_data",
          "data": {
            "image/png": "[encoded data removed]",
            "text/plain": [
              "<Figure size 432x288 with 1 Axes>"
            ]
          },
          "metadata": {
            "tags": [],
            "needs_background": "light"
          }
        },
        {
          "output_type": "display_data",
          "data": {
            "image/png": "[encoded data removed]",
            "text/plain": [
              "<Figure size 432x288 with 1 Axes>"
            ]
          },
          "metadata": {
            "tags": [],
            "needs_background": "light"
          }
        },
        {
          "output_type": "display_data",
          "data": {
            "image/png": "[encoded data removed]",
            "text/plain": [
              "<Figure size 432x288 with 1 Axes>"
            ]
          },
          "metadata": {
            "tags": [],
            "needs_background": "light"
          }
        }
      ]
    },
    {
      "cell_type": "code",
      "metadata": {
        "colab": {
          "base_uri": "https://localhost:8080/"
        },
        "id": "Y8FEjDLYfka9",
        "outputId": "932ac85e-682f-450e-8f6b-4008b54e1c97"
      },
      "source": [
        "from sklearn.neighbors import NearestCentroid\r\n",
        "nc = NearestCentroid()\r\n",
        "nc.fit(X_train, y_train)\r\n",
        "print(nc.centroids_)\r\n",
        "print(\"accuracy: {:.2f}\".format(nc.score(X_test, y_test)))"
      ],
      "execution_count": null,
      "outputs": [
        {
          "output_type": "stream",
          "text": [
            "[[0.00000000e+00 0.00000000e+00 4.19101124e+00 1.30898876e+01\n",
            "  1.08426966e+01 2.38202247e+00 2.24719101e-02 0.00000000e+00\n",
            "  0.00000000e+00 6.96629213e-01 1.26966292e+01 1.36179775e+01\n",
            "  1.21011236e+01 1.11910112e+01 6.96629213e-01 0.00000000e+00\n",
            "  0.00000000e+00 3.65168539e+00 1.44606742e+01 5.40449438e+00\n",
            "  2.50561798e+00 1.27415730e+01 3.20224719e+00 0.00000000e+00\n",
            "  0.00000000e+00 5.33707865e+00 1.28876404e+01 1.86516854e+00\n",
            "  1.57303371e-01 9.44943820e+00 6.15730337e+00 0.00000000e+00\n",
            "  0.00000000e+00 5.77528090e+00 1.16067416e+01 8.53932584e-01\n",
            "  7.86516854e-02 9.06741573e+00 7.04494382e+00 0.00000000e+00\n",
            "  0.00000000e+00 3.38202247e+00 1.34157303e+01 1.86516854e+00\n",
            "  1.67415730e+00 1.13370787e+01 6.20224719e+00 0.00000000e+00\n",
            "  0.00000000e+00 8.42696629e-01 1.29101124e+01 1.03258427e+01\n",
            "  1.03820225e+01 1.33370787e+01 2.53932584e+00 0.00000000e+00\n",
            "  0.00000000e+00 0.00000000e+00 3.89887640e+00 1.32808989e+01\n",
            "  1.34719101e+01 5.64044944e+00 2.69662921e-01 0.00000000e+00]\n",
            " [0.00000000e+00 0.00000000e+00 2.41758242e+00 8.93406593e+00\n",
            "  9.95604396e+00 6.18681319e+00 1.09890110e+00 0.00000000e+00\n",
            "  0.00000000e+00 8.79120879e-02 3.62637363e+00 1.23736264e+01\n",
            "  1.37802198e+01 8.62637363e+00 1.48351648e+00 0.00000000e+00\n",
            "  0.00000000e+00 8.24175824e-01 6.67032967e+00 1.48901099e+01\n",
            "  1.40769231e+01 8.12087912e+00 8.13186813e-01 0.00000000e+00\n",
            "  0.00000000e+00 2.18681319e+00 9.09890110e+00 1.42967033e+01\n",
            "  1.37582418e+01 6.86813187e+00 3.18681319e-01 0.00000000e+00\n",
            "  0.00000000e+00 1.23076923e+00 6.64835165e+00 1.13736264e+01\n",
            "  1.38681319e+01 6.07692308e+00 3.51648352e-01 0.00000000e+00\n",
            "  0.00000000e+00 3.84615385e-01 4.59340659e+00 9.76923077e+00\n",
            "  1.37142857e+01 6.45054945e+00 3.84615385e-01 0.00000000e+00\n",
            "  0.00000000e+00 1.42857143e-01 4.27472527e+00 1.05054945e+01\n",
            "  1.39780220e+01 8.08791209e+00 2.41758242e+00 7.36263736e-01\n",
            "  0.00000000e+00 1.09890110e-02 2.27472527e+00 8.95604396e+00\n",
            "  1.30659341e+01 8.94505495e+00 3.49450549e+00 1.80219780e+00]\n",
            " [0.00000000e+00 1.06741573e+00 1.00786517e+01 1.44831461e+01\n",
            "  9.58426966e+00 2.16853933e+00 8.98876404e-02 0.00000000e+00\n",
            "  2.24719101e-02 5.86516854e+00 1.42247191e+01 1.20898876e+01\n",
            "  1.22808989e+01 5.37078652e+00 3.93258427e-01 0.00000000e+00\n",
            "  1.12359551e-02 4.68539326e+00 7.39325843e+00 4.19101124e+00\n",
            "  1.15842697e+01 5.83146067e+00 5.73033708e-01 0.00000000e+00\n",
            "  0.00000000e+00 9.88764045e-01 1.78651685e+00 4.80898876e+00\n",
            "  1.21235955e+01 4.20224719e+00 3.14606742e-01 0.00000000e+00\n",
            "  0.00000000e+00 6.74157303e-02 1.40449438e+00 9.20224719e+00\n",
            "  1.02022472e+01 2.21348315e+00 1.01123596e-01 0.00000000e+00\n",
            "  0.00000000e+00 3.37078652e-01 5.83146067e+00 1.21235955e+01\n",
            "  6.87640449e+00 2.31460674e+00 1.13483146e+00 2.24719101e-02\n",
            "  0.00000000e+00 1.53932584e+00 1.17865169e+01 1.42022472e+01\n",
            "  1.17415730e+01 1.05393258e+01 7.02247191e+00 6.62921348e-01\n",
            "  0.00000000e+00 1.05617978e+00 1.05393258e+01 1.42022472e+01\n",
            "  1.31235955e+01 1.14157303e+01 8.11235955e+00 1.83146067e+00]\n",
            " [0.00000000e+00 6.04395604e-01 8.20879121e+00 1.40879121e+01\n",
            "  1.42527473e+01 7.50549451e+00 8.13186813e-01 1.09890110e-02\n",
            "  0.00000000e+00 4.21978022e+00 1.24395604e+01 9.05494505e+00\n",
            "  1.12857143e+01 1.17692308e+01 1.98901099e+00 1.09890110e-02\n",
            "  0.00000000e+00 1.82417582e+00 3.58241758e+00 3.27472527e+00\n",
            "  1.18131868e+01 9.26373626e+00 7.69230769e-01 0.00000000e+00\n",
            "  0.00000000e+00 2.08791209e-01 1.35164835e+00 8.83516484e+00\n",
            "  1.41428571e+01 5.36263736e+00 7.69230769e-02 0.00000000e+00\n",
            "  0.00000000e+00 6.59340659e-02 9.01098901e-01 5.10989011e+00\n",
            "  1.17142857e+01 1.15934066e+01 2.16483516e+00 0.00000000e+00\n",
            "  0.00000000e+00 5.27472527e-01 1.28571429e+00 9.89010989e-01\n",
            "  4.03296703e+00 1.18791209e+01 6.51648352e+00 0.00000000e+00\n",
            "  0.00000000e+00 1.00000000e+00 6.92307692e+00 6.25274725e+00\n",
            "  8.17582418e+00 1.29670330e+01 6.18681319e+00 1.09890110e-02\n",
            "  0.00000000e+00 3.51648352e-01 9.36263736e+00 1.45384615e+01\n",
            "  1.39010989e+01 8.63736264e+00 1.34065934e+00 1.09890110e-02]\n",
            " [0.00000000e+00 0.00000000e+00 4.66666667e-01 7.10000000e+00\n",
            "  1.13000000e+01 1.73333333e+00 2.88888889e-01 2.55555556e-01\n",
            "  0.00000000e+00 7.77777778e-02 3.46666667e+00 1.32777778e+01\n",
            "  8.46666667e+00 1.67777778e+00 1.28888889e+00 3.00000000e-01\n",
            "  0.00000000e+00 7.11111111e-01 1.04666667e+01 1.11666667e+01\n",
            "  5.22222222e+00 5.94444444e+00 4.22222222e+00 3.44444444e-01\n",
            "  0.00000000e+00 4.47777778e+00 1.42555556e+01 6.52222222e+00\n",
            "  7.31111111e+00 1.09222222e+01 6.61111111e+00 3.33333333e-02\n",
            "  0.00000000e+00 8.25555556e+00 1.47000000e+01 9.57777778e+00\n",
            "  1.30666667e+01 1.39333333e+01 5.43333333e+00 0.00000000e+00\n",
            "  5.55555556e-02 5.90000000e+00 1.13111111e+01 1.25333333e+01\n",
            "  1.47222222e+01 1.03444444e+01 1.76666667e+00 0.00000000e+00\n",
            "  8.88888889e-02 1.00000000e+00 2.82222222e+00 7.67777778e+00\n",
            "  1.35777778e+01 4.15555556e+00 2.22222222e-02 0.00000000e+00\n",
            "  0.00000000e+00 1.11111111e-02 5.66666667e-01 7.82222222e+00\n",
            "  1.18555556e+01 1.82222222e+00 0.00000000e+00 0.00000000e+00]\n",
            " [0.00000000e+00 6.70329670e-01 1.02307692e+01 1.29340659e+01\n",
            "  1.36153846e+01 1.15934066e+01 3.38461538e+00 4.39560440e-02\n",
            "  1.09890110e-02 3.09890110e+00 1.49450549e+01 1.18681319e+01\n",
            "  8.04395604e+00 6.28571429e+00 1.96703297e+00 5.49450549e-02\n",
            "  0.00000000e+00 5.00000000e+00 1.44835165e+01 6.38461538e+00\n",
            "  2.28571429e+00 6.59340659e-01 5.49450549e-02 0.00000000e+00\n",
            "  0.00000000e+00 5.06593407e+00 1.42197802e+01 1.24065934e+01\n",
            "  9.91208791e+00 4.70329670e+00 3.40659341e-01 0.00000000e+00\n",
            "  0.00000000e+00 1.54945055e+00 7.17582418e+00 7.75824176e+00\n",
            "  8.91208791e+00 8.27472527e+00 1.93406593e+00 0.00000000e+00\n",
            "  0.00000000e+00 1.97802198e-01 7.25274725e-01 2.42857143e+00\n",
            "  7.26373626e+00 9.02197802e+00 2.58241758e+00 0.00000000e+00\n",
            "  0.00000000e+00 7.47252747e-01 5.61538462e+00 7.52747253e+00\n",
            "  1.14615385e+01 8.06593407e+00 1.38461538e+00 0.00000000e+00\n",
            "  0.00000000e+00 6.92307692e-01 1.07802198e+01 1.49340659e+01\n",
            "  9.97802198e+00 2.62637363e+00 1.75824176e-01 0.00000000e+00]\n",
            " [0.00000000e+00 0.00000000e+00 1.43333333e+00 1.12333333e+01\n",
            "  8.88888889e+00 1.30000000e+00 0.00000000e+00 0.00000000e+00\n",
            "  0.00000000e+00 4.44444444e-02 7.37777778e+00 1.45666667e+01\n",
            "  5.84444444e+00 9.00000000e-01 0.00000000e+00 0.00000000e+00\n",
            "  0.00000000e+00 8.33333333e-01 1.28888889e+01 9.20000000e+00\n",
            "  9.11111111e-01 6.66666667e-02 0.00000000e+00 0.00000000e+00\n",
            "  0.00000000e+00 2.42222222e+00 1.40000000e+01 7.83333333e+00\n",
            "  3.70000000e+00 1.94444444e+00 1.22222222e-01 0.00000000e+00\n",
            "  0.00000000e+00 3.78888889e+00 1.47555556e+01 1.25777778e+01\n",
            "  1.18555556e+01 1.02777778e+01 2.73333333e+00 0.00000000e+00\n",
            "  0.00000000e+00 2.15555556e+00 1.48222222e+01 1.06111111e+01\n",
            "  5.64444444e+00 1.00666667e+01 9.04444444e+00 5.55555556e-02\n",
            "  0.00000000e+00 2.55555556e-01 1.07777778e+01 1.23111111e+01\n",
            "  5.45555556e+00 1.11777778e+01 1.08666667e+01 2.88888889e-01\n",
            "  0.00000000e+00 0.00000000e+00 1.68888889e+00 1.09222222e+01\n",
            "  1.51222222e+01 1.31444444e+01 4.52222222e+00 1.00000000e-01]\n",
            " [0.00000000e+00 1.77777778e-01 5.54444444e+00 1.35888889e+01\n",
            "  1.40777778e+01 1.03666667e+01 4.95555556e+00 1.03333333e+00\n",
            "  0.00000000e+00 1.28888889e+00 1.05888889e+01 1.16555556e+01\n",
            "  1.15111111e+01 1.18111111e+01 4.92222222e+00 6.77777778e-01\n",
            "  0.00000000e+00 1.17777778e+00 4.83333333e+00 2.64444444e+00\n",
            "  8.06666667e+00 1.07888889e+01 3.04444444e+00 1.44444444e-01\n",
            "  0.00000000e+00 7.11111111e-01 4.51111111e+00 6.80000000e+00\n",
            "  1.25444444e+01 1.18111111e+01 4.73333333e+00 0.00000000e+00\n",
            "  0.00000000e+00 1.63333333e+00 9.05555556e+00 1.34555556e+01\n",
            "  1.45666667e+01 1.10333333e+01 4.53333333e+00 0.00000000e+00\n",
            "  0.00000000e+00 1.05555556e+00 5.80000000e+00 1.21777778e+01\n",
            "  1.03333333e+01 3.16666667e+00 4.88888889e-01 0.00000000e+00\n",
            "  0.00000000e+00 1.11111111e-01 3.54444444e+00 1.26666667e+01\n",
            "  5.04444444e+00 4.44444444e-02 0.00000000e+00 0.00000000e+00\n",
            "  0.00000000e+00 1.11111111e-01 6.98888889e+00 1.12222222e+01\n",
            "  1.80000000e+00 0.00000000e+00 0.00000000e+00 0.00000000e+00]\n",
            " [0.00000000e+00 1.49425287e-01 4.25287356e+00 1.11264368e+01\n",
            "  1.27471264e+01 6.77011494e+00 5.86206897e-01 0.00000000e+00\n",
            "  5.74712644e-02 2.03448276e+00 1.18160920e+01 1.16321839e+01\n",
            "  8.72413793e+00 1.23793103e+01 3.11494253e+00 0.00000000e+00\n",
            "  1.14942529e-02 3.09195402e+00 1.10689655e+01 6.81609195e+00\n",
            "  6.63218391e+00 1.19425287e+01 2.59770115e+00 0.00000000e+00\n",
            "  0.00000000e+00 1.26436782e+00 8.73563218e+00 1.28505747e+01\n",
            "  1.32183908e+01 7.68965517e+00 6.09195402e-01 0.00000000e+00\n",
            "  0.00000000e+00 4.02298851e-01 6.31034483e+00 1.38275862e+01\n",
            "  1.34712644e+01 5.08045977e+00 1.37931034e-01 0.00000000e+00\n",
            "  0.00000000e+00 9.65517241e-01 9.78160920e+00 8.56321839e+00\n",
            "  8.90804598e+00 8.65517241e+00 1.33333333e+00 0.00000000e+00\n",
            "  0.00000000e+00 6.78160920e-01 1.00919540e+01 8.60919540e+00\n",
            "  8.41379310e+00 9.57471264e+00 2.25287356e+00 0.00000000e+00\n",
            "  0.00000000e+00 1.03448276e-01 4.36781609e+00 1.22413793e+01\n",
            "  1.30459770e+01 7.02298851e+00 1.34482759e+00 2.29885057e-02]\n",
            " [0.00000000e+00 8.88888889e-02 5.87777778e+00 1.19888889e+01\n",
            "  1.12888889e+01 6.57777778e+00 1.71111111e+00 1.88888889e-01\n",
            "  0.00000000e+00 2.42222222e+00 1.33666667e+01 9.86666667e+00\n",
            "  1.00111111e+01 1.13333333e+01 3.05555556e+00 1.77777778e-01\n",
            "  0.00000000e+00 3.65555556e+00 1.34444444e+01 5.92222222e+00\n",
            "  8.37777778e+00 1.42222222e+01 4.01111111e+00 7.77777778e-02\n",
            "  0.00000000e+00 1.83333333e+00 1.08222222e+01 1.27222222e+01\n",
            "  1.33777778e+01 1.41222222e+01 4.44444444e+00 0.00000000e+00\n",
            "  0.00000000e+00 1.00000000e-01 2.32222222e+00 4.63333333e+00\n",
            "  5.47777778e+00 1.16333333e+01 4.84444444e+00 0.00000000e+00\n",
            "  0.00000000e+00 8.88888889e-02 4.22222222e-01 7.55555556e-01\n",
            "  3.23333333e+00 1.01222222e+01 5.23333333e+00 0.00000000e+00\n",
            "  0.00000000e+00 5.88888889e-01 5.50000000e+00 4.90000000e+00\n",
            "  6.63333333e+00 1.04777778e+01 4.21111111e+00 2.22222222e-02\n",
            "  0.00000000e+00 6.66666667e-02 5.84444444e+00 1.24444444e+01\n",
            "  1.29000000e+01 7.66666667e+00 1.40000000e+00 0.00000000e+00]]\n",
            "accuracy: 0.90\n"
          ],
          "name": "stdout"
        }
      ]
    },
    {
      "cell_type": "code",
      "metadata": {
        "colab": {
          "base_uri": "https://localhost:8080/",
          "height": 295
        },
        "id": "cbZGkqjbfvI3",
        "outputId": "b7261a88-fe37-4ec9-fd29-1296c009af13"
      },
      "source": [
        "# It \"shrinks\" each of the class centroids toward the overall centroid for all classes by an amount \r\n",
        "# we call the threshold \r\n",
        "\r\n",
        "# import numpy as np\r\n",
        "# Setup arrays to store train and test accuracies\r\n",
        "shrinkage_param_list = [0.0, 0.2, 0.4, 0.6, 0.8]\r\n",
        "train_accuracy = np.empty(len(shrinkage_param_list))\r\n",
        "test_accuracy = np.empty(len(shrinkage_param_list))\r\n",
        "\r\n",
        "# Loop over different values of k\r\n",
        "for i, shrinkage in enumerate(shrinkage_param_list):\r\n",
        "    # Setup a k-NC Classifier\r\n",
        "    knc = NearestCentroid(shrink_threshold=shrinkage)\r\n",
        "\r\n",
        "    # Fit the classifier to the training data\r\n",
        "    knc.fit(X_train, y_train)\r\n",
        "\r\n",
        "    #Compute accuracy on the training set\r\n",
        "    train_accuracy[i] = knc.score(X_train, y_train)\r\n",
        "\r\n",
        "    #Compute accuracy on the testing set\r\n",
        "    test_accuracy[i] = knc.score(X_test, y_test)\r\n",
        "\r\n",
        "# Generate plot\r\n",
        "plt.title('k-NC: shrinkage')\r\n",
        "plt.plot(shrinkage_param_list, test_accuracy, label = 'Testing Accuracy')\r\n",
        "plt.plot(shrinkage_param_list, train_accuracy, label = 'Training Accuracy')\r\n",
        "plt.legend()\r\n",
        "plt.xlabel('Shrinkage')\r\n",
        "plt.ylabel('Accuracy')\r\n",
        "plt.show()\r\n"
      ],
      "execution_count": null,
      "outputs": [
        {
          "output_type": "display_data",
          "data": {
            "image/png": "[encoded data removed]",
            "text/plain": [
              "<Figure size 432x288 with 1 Axes>"
            ]
          },
          "metadata": {
            "tags": [],
            "needs_background": "light"
          }
        }
      ]
    },
    {
      "cell_type": "code",
      "metadata": {
        "colab": {
          "base_uri": "https://localhost:8080/",
          "height": 1000
        },
        "id": "IpZSAlCmfzFc",
        "outputId": "2466231b-26ca-4e7f-bfa9-1f9ba67f64f1"
      },
      "source": [
        "# time to build the model, memory to store the model, and time to make a prediction.\r\n",
        "\r\n",
        "def vcopies(arr, num=4):\r\n",
        "    return np.vstack( (arr for i in range(num)) )\r\n",
        "\r\n",
        "def hcopies(arr, num=4):\r\n",
        "    return np.hstack( (arr for i in range(num)) )\r\n",
        "\r\n",
        "\r\n",
        "X_train2 = vcopies(X_train)\r\n",
        "y_train2 = hcopies(y_train)\r\n",
        "X_test2 = vcopies(X_test)\r\n",
        "y_test2 = hcopies(y_test)\r\n",
        "\r\n",
        "def basic_knn():\r\n",
        "    knn = KNeighborsClassifier(n_neighbors=1, algorithm=\"kd_tree\")\r\n",
        "    knn.fit(X_train2, y_train2)\r\n",
        "    y_pred2 = knn.predict(X_test2)\r\n",
        "    print(\"Test set predictions:\\n {}\".format(y_pred2))\r\n",
        "    print(knn.score(X_test2, y_test2))\r\n",
        "\r\n",
        "def basic_nc():\r\n",
        "    nc = NearestCentroid()\r\n",
        "    nc.fit(X_train2, y_train2)\r\n",
        "    display(nc.centroids_)\r\n",
        "    print(\"accuracy: {:.2f}\".format(nc.score(X_test2, y_test2)))\r\n",
        "\r\n",
        "basic_knn()\r\n",
        "basic_nc()"
      ],
      "execution_count": null,
      "outputs": [
        {
          "output_type": "stream",
          "text": [
            "/usr/local/lib/python3.6/dist-packages/ipykernel_launcher.py:4: FutureWarning: arrays to stack must be passed as a \"sequence\" type such as list or tuple. Support for non-sequence iterables such as generators is deprecated as of NumPy 1.16 and will raise an error in the future.\n",
            "  after removing the cwd from sys.path.\n",
            "/usr/local/lib/python3.6/dist-packages/ipykernel_launcher.py:7: FutureWarning: arrays to stack must be passed as a \"sequence\" type such as list or tuple. Support for non-sequence iterables such as generators is deprecated as of NumPy 1.16 and will raise an error in the future.\n",
            "  import sys\n"
          ],
          "name": "stderr"
        },
        {
          "output_type": "stream",
          "text": [
            "Test set predictions:\n",
            " [8 1 6 ... 5 3 2]\n",
            "0.9777530589543938\n"
          ],
          "name": "stdout"
        },
        {
          "output_type": "display_data",
          "data": {
            "text/plain": [
              "array([[0.00000000e+00, 0.00000000e+00, 4.19101124e+00, 1.30898876e+01,\n",
              "        1.08426966e+01, 2.38202247e+00, 2.24719101e-02, 0.00000000e+00,\n",
              "        0.00000000e+00, 6.96629213e-01, 1.26966292e+01, 1.36179775e+01,\n",
              "        1.21011236e+01, 1.11910112e+01, 6.96629213e-01, 0.00000000e+00,\n",
              "        0.00000000e+00, 3.65168539e+00, 1.44606742e+01, 5.40449438e+00,\n",
              "        2.50561798e+00, 1.27415730e+01, 3.20224719e+00, 0.00000000e+00,\n",
              "        0.00000000e+00, 5.33707865e+00, 1.28876404e+01, 1.86516854e+00,\n",
              "        1.57303371e-01, 9.44943820e+00, 6.15730337e+00, 0.00000000e+00,\n",
              "        0.00000000e+00, 5.77528090e+00, 1.16067416e+01, 8.53932584e-01,\n",
              "        7.86516854e-02, 9.06741573e+00, 7.04494382e+00, 0.00000000e+00,\n",
              "        0.00000000e+00, 3.38202247e+00, 1.34157303e+01, 1.86516854e+00,\n",
              "        1.67415730e+00, 1.13370787e+01, 6.20224719e+00, 0.00000000e+00,\n",
              "        0.00000000e+00, 8.42696629e-01, 1.29101124e+01, 1.03258427e+01,\n",
              "        1.03820225e+01, 1.33370787e+01, 2.53932584e+00, 0.00000000e+00,\n",
              "        0.00000000e+00, 0.00000000e+00, 3.89887640e+00, 1.32808989e+01,\n",
              "        1.34719101e+01, 5.64044944e+00, 2.69662921e-01, 0.00000000e+00],\n",
              "       [0.00000000e+00, 0.00000000e+00, 2.41758242e+00, 8.93406593e+00,\n",
              "        9.95604396e+00, 6.18681319e+00, 1.09890110e+00, 0.00000000e+00,\n",
              "        0.00000000e+00, 8.79120879e-02, 3.62637363e+00, 1.23736264e+01,\n",
              "        1.37802198e+01, 8.62637363e+00, 1.48351648e+00, 0.00000000e+00,\n",
              "        0.00000000e+00, 8.24175824e-01, 6.67032967e+00, 1.48901099e+01,\n",
              "        1.40769231e+01, 8.12087912e+00, 8.13186813e-01, 0.00000000e+00,\n",
              "        0.00000000e+00, 2.18681319e+00, 9.09890110e+00, 1.42967033e+01,\n",
              "        1.37582418e+01, 6.86813187e+00, 3.18681319e-01, 0.00000000e+00,\n",
              "        0.00000000e+00, 1.23076923e+00, 6.64835165e+00, 1.13736264e+01,\n",
              "        1.38681319e+01, 6.07692308e+00, 3.51648352e-01, 0.00000000e+00,\n",
              "        0.00000000e+00, 3.84615385e-01, 4.59340659e+00, 9.76923077e+00,\n",
              "        1.37142857e+01, 6.45054945e+00, 3.84615385e-01, 0.00000000e+00,\n",
              "        0.00000000e+00, 1.42857143e-01, 4.27472527e+00, 1.05054945e+01,\n",
              "        1.39780220e+01, 8.08791209e+00, 2.41758242e+00, 7.36263736e-01,\n",
              "        0.00000000e+00, 1.09890110e-02, 2.27472527e+00, 8.95604396e+00,\n",
              "        1.30659341e+01, 8.94505495e+00, 3.49450549e+00, 1.80219780e+00],\n",
              "       [0.00000000e+00, 1.06741573e+00, 1.00786517e+01, 1.44831461e+01,\n",
              "        9.58426966e+00, 2.16853933e+00, 8.98876404e-02, 0.00000000e+00,\n",
              "        2.24719101e-02, 5.86516854e+00, 1.42247191e+01, 1.20898876e+01,\n",
              "        1.22808989e+01, 5.37078652e+00, 3.93258427e-01, 0.00000000e+00,\n",
              "        1.12359551e-02, 4.68539326e+00, 7.39325843e+00, 4.19101124e+00,\n",
              "        1.15842697e+01, 5.83146067e+00, 5.73033708e-01, 0.00000000e+00,\n",
              "        0.00000000e+00, 9.88764045e-01, 1.78651685e+00, 4.80898876e+00,\n",
              "        1.21235955e+01, 4.20224719e+00, 3.14606742e-01, 0.00000000e+00,\n",
              "        0.00000000e+00, 6.74157303e-02, 1.40449438e+00, 9.20224719e+00,\n",
              "        1.02022472e+01, 2.21348315e+00, 1.01123596e-01, 0.00000000e+00,\n",
              "        0.00000000e+00, 3.37078652e-01, 5.83146067e+00, 1.21235955e+01,\n",
              "        6.87640449e+00, 2.31460674e+00, 1.13483146e+00, 2.24719101e-02,\n",
              "        0.00000000e+00, 1.53932584e+00, 1.17865169e+01, 1.42022472e+01,\n",
              "        1.17415730e+01, 1.05393258e+01, 7.02247191e+00, 6.62921348e-01,\n",
              "        0.00000000e+00, 1.05617978e+00, 1.05393258e+01, 1.42022472e+01,\n",
              "        1.31235955e+01, 1.14157303e+01, 8.11235955e+00, 1.83146067e+00],\n",
              "       [0.00000000e+00, 6.04395604e-01, 8.20879121e+00, 1.40879121e+01,\n",
              "        1.42527473e+01, 7.50549451e+00, 8.13186813e-01, 1.09890110e-02,\n",
              "        0.00000000e+00, 4.21978022e+00, 1.24395604e+01, 9.05494505e+00,\n",
              "        1.12857143e+01, 1.17692308e+01, 1.98901099e+00, 1.09890110e-02,\n",
              "        0.00000000e+00, 1.82417582e+00, 3.58241758e+00, 3.27472527e+00,\n",
              "        1.18131868e+01, 9.26373626e+00, 7.69230769e-01, 0.00000000e+00,\n",
              "        0.00000000e+00, 2.08791209e-01, 1.35164835e+00, 8.83516484e+00,\n",
              "        1.41428571e+01, 5.36263736e+00, 7.69230769e-02, 0.00000000e+00,\n",
              "        0.00000000e+00, 6.59340659e-02, 9.01098901e-01, 5.10989011e+00,\n",
              "        1.17142857e+01, 1.15934066e+01, 2.16483516e+00, 0.00000000e+00,\n",
              "        0.00000000e+00, 5.27472527e-01, 1.28571429e+00, 9.89010989e-01,\n",
              "        4.03296703e+00, 1.18791209e+01, 6.51648352e+00, 0.00000000e+00,\n",
              "        0.00000000e+00, 1.00000000e+00, 6.92307692e+00, 6.25274725e+00,\n",
              "        8.17582418e+00, 1.29670330e+01, 6.18681319e+00, 1.09890110e-02,\n",
              "        0.00000000e+00, 3.51648352e-01, 9.36263736e+00, 1.45384615e+01,\n",
              "        1.39010989e+01, 8.63736264e+00, 1.34065934e+00, 1.09890110e-02],\n",
              "       [0.00000000e+00, 0.00000000e+00, 4.66666667e-01, 7.10000000e+00,\n",
              "        1.13000000e+01, 1.73333333e+00, 2.88888889e-01, 2.55555556e-01,\n",
              "        0.00000000e+00, 7.77777778e-02, 3.46666667e+00, 1.32777778e+01,\n",
              "        8.46666667e+00, 1.67777778e+00, 1.28888889e+00, 3.00000000e-01,\n",
              "        0.00000000e+00, 7.11111111e-01, 1.04666667e+01, 1.11666667e+01,\n",
              "        5.22222222e+00, 5.94444444e+00, 4.22222222e+00, 3.44444444e-01,\n",
              "        0.00000000e+00, 4.47777778e+00, 1.42555556e+01, 6.52222222e+00,\n",
              "        7.31111111e+00, 1.09222222e+01, 6.61111111e+00, 3.33333333e-02,\n",
              "        0.00000000e+00, 8.25555556e+00, 1.47000000e+01, 9.57777778e+00,\n",
              "        1.30666667e+01, 1.39333333e+01, 5.43333333e+00, 0.00000000e+00,\n",
              "        5.55555556e-02, 5.90000000e+00, 1.13111111e+01, 1.25333333e+01,\n",
              "        1.47222222e+01, 1.03444444e+01, 1.76666667e+00, 0.00000000e+00,\n",
              "        8.88888889e-02, 1.00000000e+00, 2.82222222e+00, 7.67777778e+00,\n",
              "        1.35777778e+01, 4.15555556e+00, 2.22222222e-02, 0.00000000e+00,\n",
              "        0.00000000e+00, 1.11111111e-02, 5.66666667e-01, 7.82222222e+00,\n",
              "        1.18555556e+01, 1.82222222e+00, 0.00000000e+00, 0.00000000e+00],\n",
              "       [0.00000000e+00, 6.70329670e-01, 1.02307692e+01, 1.29340659e+01,\n",
              "        1.36153846e+01, 1.15934066e+01, 3.38461538e+00, 4.39560440e-02,\n",
              "        1.09890110e-02, 3.09890110e+00, 1.49450549e+01, 1.18681319e+01,\n",
              "        8.04395604e+00, 6.28571429e+00, 1.96703297e+00, 5.49450549e-02,\n",
              "        0.00000000e+00, 5.00000000e+00, 1.44835165e+01, 6.38461538e+00,\n",
              "        2.28571429e+00, 6.59340659e-01, 5.49450549e-02, 0.00000000e+00,\n",
              "        0.00000000e+00, 5.06593407e+00, 1.42197802e+01, 1.24065934e+01,\n",
              "        9.91208791e+00, 4.70329670e+00, 3.40659341e-01, 0.00000000e+00,\n",
              "        0.00000000e+00, 1.54945055e+00, 7.17582418e+00, 7.75824176e+00,\n",
              "        8.91208791e+00, 8.27472527e+00, 1.93406593e+00, 0.00000000e+00,\n",
              "        0.00000000e+00, 1.97802198e-01, 7.25274725e-01, 2.42857143e+00,\n",
              "        7.26373626e+00, 9.02197802e+00, 2.58241758e+00, 0.00000000e+00,\n",
              "        0.00000000e+00, 7.47252747e-01, 5.61538462e+00, 7.52747253e+00,\n",
              "        1.14615385e+01, 8.06593407e+00, 1.38461538e+00, 0.00000000e+00,\n",
              "        0.00000000e+00, 6.92307692e-01, 1.07802198e+01, 1.49340659e+01,\n",
              "        9.97802198e+00, 2.62637363e+00, 1.75824176e-01, 0.00000000e+00],\n",
              "       [0.00000000e+00, 0.00000000e+00, 1.43333333e+00, 1.12333333e+01,\n",
              "        8.88888889e+00, 1.30000000e+00, 0.00000000e+00, 0.00000000e+00,\n",
              "        0.00000000e+00, 4.44444444e-02, 7.37777778e+00, 1.45666667e+01,\n",
              "        5.84444444e+00, 9.00000000e-01, 0.00000000e+00, 0.00000000e+00,\n",
              "        0.00000000e+00, 8.33333333e-01, 1.28888889e+01, 9.20000000e+00,\n",
              "        9.11111111e-01, 6.66666667e-02, 0.00000000e+00, 0.00000000e+00,\n",
              "        0.00000000e+00, 2.42222222e+00, 1.40000000e+01, 7.83333333e+00,\n",
              "        3.70000000e+00, 1.94444444e+00, 1.22222222e-01, 0.00000000e+00,\n",
              "        0.00000000e+00, 3.78888889e+00, 1.47555556e+01, 1.25777778e+01,\n",
              "        1.18555556e+01, 1.02777778e+01, 2.73333333e+00, 0.00000000e+00,\n",
              "        0.00000000e+00, 2.15555556e+00, 1.48222222e+01, 1.06111111e+01,\n",
              "        5.64444444e+00, 1.00666667e+01, 9.04444444e+00, 5.55555556e-02,\n",
              "        0.00000000e+00, 2.55555556e-01, 1.07777778e+01, 1.23111111e+01,\n",
              "        5.45555556e+00, 1.11777778e+01, 1.08666667e+01, 2.88888889e-01,\n",
              "        0.00000000e+00, 0.00000000e+00, 1.68888889e+00, 1.09222222e+01,\n",
              "        1.51222222e+01, 1.31444444e+01, 4.52222222e+00, 1.00000000e-01],\n",
              "       [0.00000000e+00, 1.77777778e-01, 5.54444444e+00, 1.35888889e+01,\n",
              "        1.40777778e+01, 1.03666667e+01, 4.95555556e+00, 1.03333333e+00,\n",
              "        0.00000000e+00, 1.28888889e+00, 1.05888889e+01, 1.16555556e+01,\n",
              "        1.15111111e+01, 1.18111111e+01, 4.92222222e+00, 6.77777778e-01,\n",
              "        0.00000000e+00, 1.17777778e+00, 4.83333333e+00, 2.64444444e+00,\n",
              "        8.06666667e+00, 1.07888889e+01, 3.04444444e+00, 1.44444444e-01,\n",
              "        0.00000000e+00, 7.11111111e-01, 4.51111111e+00, 6.80000000e+00,\n",
              "        1.25444444e+01, 1.18111111e+01, 4.73333333e+00, 0.00000000e+00,\n",
              "        0.00000000e+00, 1.63333333e+00, 9.05555556e+00, 1.34555556e+01,\n",
              "        1.45666667e+01, 1.10333333e+01, 4.53333333e+00, 0.00000000e+00,\n",
              "        0.00000000e+00, 1.05555556e+00, 5.80000000e+00, 1.21777778e+01,\n",
              "        1.03333333e+01, 3.16666667e+00, 4.88888889e-01, 0.00000000e+00,\n",
              "        0.00000000e+00, 1.11111111e-01, 3.54444444e+00, 1.26666667e+01,\n",
              "        5.04444444e+00, 4.44444444e-02, 0.00000000e+00, 0.00000000e+00,\n",
              "        0.00000000e+00, 1.11111111e-01, 6.98888889e+00, 1.12222222e+01,\n",
              "        1.80000000e+00, 0.00000000e+00, 0.00000000e+00, 0.00000000e+00],\n",
              "       [0.00000000e+00, 1.49425287e-01, 4.25287356e+00, 1.11264368e+01,\n",
              "        1.27471264e+01, 6.77011494e+00, 5.86206897e-01, 0.00000000e+00,\n",
              "        5.74712644e-02, 2.03448276e+00, 1.18160920e+01, 1.16321839e+01,\n",
              "        8.72413793e+00, 1.23793103e+01, 3.11494253e+00, 0.00000000e+00,\n",
              "        1.14942529e-02, 3.09195402e+00, 1.10689655e+01, 6.81609195e+00,\n",
              "        6.63218391e+00, 1.19425287e+01, 2.59770115e+00, 0.00000000e+00,\n",
              "        0.00000000e+00, 1.26436782e+00, 8.73563218e+00, 1.28505747e+01,\n",
              "        1.32183908e+01, 7.68965517e+00, 6.09195402e-01, 0.00000000e+00,\n",
              "        0.00000000e+00, 4.02298851e-01, 6.31034483e+00, 1.38275862e+01,\n",
              "        1.34712644e+01, 5.08045977e+00, 1.37931034e-01, 0.00000000e+00,\n",
              "        0.00000000e+00, 9.65517241e-01, 9.78160920e+00, 8.56321839e+00,\n",
              "        8.90804598e+00, 8.65517241e+00, 1.33333333e+00, 0.00000000e+00,\n",
              "        0.00000000e+00, 6.78160920e-01, 1.00919540e+01, 8.60919540e+00,\n",
              "        8.41379310e+00, 9.57471264e+00, 2.25287356e+00, 0.00000000e+00,\n",
              "        0.00000000e+00, 1.03448276e-01, 4.36781609e+00, 1.22413793e+01,\n",
              "        1.30459770e+01, 7.02298851e+00, 1.34482759e+00, 2.29885057e-02],\n",
              "       [0.00000000e+00, 8.88888889e-02, 5.87777778e+00, 1.19888889e+01,\n",
              "        1.12888889e+01, 6.57777778e+00, 1.71111111e+00, 1.88888889e-01,\n",
              "        0.00000000e+00, 2.42222222e+00, 1.33666667e+01, 9.86666667e+00,\n",
              "        1.00111111e+01, 1.13333333e+01, 3.05555556e+00, 1.77777778e-01,\n",
              "        0.00000000e+00, 3.65555556e+00, 1.34444444e+01, 5.92222222e+00,\n",
              "        8.37777778e+00, 1.42222222e+01, 4.01111111e+00, 7.77777778e-02,\n",
              "        0.00000000e+00, 1.83333333e+00, 1.08222222e+01, 1.27222222e+01,\n",
              "        1.33777778e+01, 1.41222222e+01, 4.44444444e+00, 0.00000000e+00,\n",
              "        0.00000000e+00, 1.00000000e-01, 2.32222222e+00, 4.63333333e+00,\n",
              "        5.47777778e+00, 1.16333333e+01, 4.84444444e+00, 0.00000000e+00,\n",
              "        0.00000000e+00, 8.88888889e-02, 4.22222222e-01, 7.55555556e-01,\n",
              "        3.23333333e+00, 1.01222222e+01, 5.23333333e+00, 0.00000000e+00,\n",
              "        0.00000000e+00, 5.88888889e-01, 5.50000000e+00, 4.90000000e+00,\n",
              "        6.63333333e+00, 1.04777778e+01, 4.21111111e+00, 2.22222222e-02,\n",
              "        0.00000000e+00, 6.66666667e-02, 5.84444444e+00, 1.24444444e+01,\n",
              "        1.29000000e+01, 7.66666667e+00, 1.40000000e+00, 0.00000000e+00]])"
            ]
          },
          "metadata": {
            "tags": []
          }
        },
        {
          "output_type": "stream",
          "text": [
            "accuracy: 0.90\n"
          ],
          "name": "stdout"
        }
      ]
    },
    {
      "cell_type": "code",
      "metadata": {
        "colab": {
          "base_uri": "https://localhost:8080/"
        },
        "id": "vXTV0ErQf25M",
        "outputId": "500a2959-aa3f-49ca-dddc-48191cf98934"
      },
      "source": [
        "import timeit\r\n",
        "number = 2\r\n",
        "repeat = 4\r\n",
        "knn_train_time = timeit.repeat(\r\n",
        "    'knn = KNeighborsClassifier(n_neighbors=1, algorithm=\"kd_tree\"); knn.fit(X_train2, y_train2)',\r\n",
        "     globals=globals(), number=number, repeat=repeat)\r\n",
        "\r\n",
        "nc_train_time = timeit.repeat(\r\n",
        "    'nc = NearestCentroid(); nc.fit(X_train2, y_train2)',\r\n",
        "     globals=globals(), number=number, repeat=repeat)\r\n",
        "\r\n",
        "knn_predict_time = timeit.repeat(\r\n",
        "    'knn.predict(X_test2)',\r\n",
        "     globals=globals(), number=number, repeat=repeat)\r\n",
        "\r\n",
        "nc_predict_time = timeit.repeat(\r\n",
        "    'nc.predict(X_test2)',\r\n",
        "     globals=globals(), number=number, repeat=repeat)\r\n",
        "\r\n",
        "\r\n",
        "def get_avg_time(time_take):\r\n",
        "    return np.array(time_take).mean()/number\r\n",
        "    \r\n",
        "knn_train_avg_time = get_avg_time(knn_train_time)\r\n",
        "knn_predict_avg_time = get_avg_time(knn_predict_time)\r\n",
        "nc_train_avg_time = get_avg_time(nc_train_time)\r\n",
        "nc_predict_avg_time = get_avg_time(nc_predict_time)\r\n",
        "print(knn_train_avg_time)\r\n",
        "print(nc_train_avg_time)\r\n",
        "print(knn_predict_avg_time)\r\n",
        "print(nc_predict_avg_time)"
      ],
      "execution_count": null,
      "outputs": [
        {
          "output_type": "stream",
          "text": [
            "0.02072402212502311\n",
            "0.0013749712499020461\n",
            "0.5100673972500545\n",
            "0.0020738232500434606\n"
          ],
          "name": "stdout"
        }
      ]
    }
  ]
}